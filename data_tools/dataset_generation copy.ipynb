{
 "cells": [
  {
   "cell_type": "markdown",
   "id": "cbc81045",
   "metadata": {},
   "source": [
    "# Generate Datasets\n",
    "Scripts required for generating the toy datasets used in experiments. \n",
    "These datasets include\n",
    "- ball dataset :- overlapping positive and negative balls\n",
    "- ring dataset :- positive ball surrounded by a ring of negative points\n",
    "- half_ring dataset :- positive ball surrounded by half ring of negative points\n",
    "- inverted_half_ring dataset :- negative ball surrounded by half ring of positive points"
   ]
  },
  {
   "cell_type": "code",
   "execution_count": 2,
   "id": "d50e0eca",
   "metadata": {},
   "outputs": [],
   "source": [
    "import torch\n",
    "\n",
    "SEED = 2703\n",
    "\n",
    "def reset_seed():\n",
    "    torch.manual_seed(SEED)\n",
    "\n",
    "def shuffle(X, Y):\n",
    "    reset_seed()\n",
    "    data = torch.cat((Y, X), 1)\n",
    "    data = data[torch.randperm(data.size()[0])]\n",
    "    X = data[:, 1:]\n",
    "    Y = data[:, 0]\n",
    "    return X, Y"
   ]
  },
  {
   "cell_type": "code",
   "execution_count": 5,
   "id": "f6d3eb5c",
   "metadata": {},
   "outputs": [],
   "source": [
    "def generate_uniform_point_cloud(n, disc_out_rad, disc_in_rad=0, half_disc=False):\n",
    "    # Produce point cloud centred around the origin, uniformly sampled from ball of radius 1\n",
    "    assert disc_in_rad>=0, \"Error: Disc Radii must be positive\"\n",
    "    assert disc_out_rad>disc_in_rad, \"Error: Disc outer radius must be bigger than inner radius\"\n",
    "    \n",
    "    radii = torch.rand(size = (n,1)) # [0,1]\n",
    "    # Scale the radii to be the disc width\n",
    "    radii = torch.sqrt((disc_out_rad**2-disc_in_rad**2)*radii + disc_in_rad**2)\n",
    "    \n",
    "    if half_disc:\n",
    "        #Cloud sits along 180 degree arc\n",
    "        max_angle = torch.pi\n",
    "    else:\n",
    "        # Cloud forms a full 360 degree shell\n",
    "        max_angle = 2*torch.pi\n",
    "\n",
    "    angles = max_angle * torch.rand(size = (n,1)) # [0, 2*pi]\n",
    "    c = torch.cos(angles)\n",
    "    s = torch.sin(angles)\n",
    "    \n",
    "    data= radii*torch.cat([c, s], dim=1)\n",
    "    return data\n",
    "\n",
    "def generate_dataset(N, ball_rad=2, disc_out_rad=5, disc_in_rad=3, half_disc=False):\n",
    "    n_pos = int(N/2)\n",
    "    n_neg = N-n_pos\n",
    "\n",
    "    pos_data = generate_uniform_point_cloud(n_pos, ball_rad)\n",
    "    neg_data = generate_uniform_point_cloud(n_neg, disc_out_rad, disc_in_rad, half_disc)\n",
    "    X = torch.cat([pos_data, neg_data], dim=0)\n",
    "\n",
    "    y_pos = torch.ones(n_pos).unsqueeze(1)\n",
    "    y_neg = -torch.ones(n_pos).unsqueeze(1)\n",
    "    Y = torch.cat([y_pos, y_neg], dim=0)\n",
    "\n",
    "    X,Y = shuffle(X, Y)\n",
    "    return X, Y\n"
   ]
  },
  {
   "cell_type": "code",
   "execution_count": 6,
   "id": "c9fd4279",
   "metadata": {},
   "outputs": [],
   "source": [
    "import pandas as pd\n",
    "\n",
    "def save_dataset(X, Y, dataset_name):\n",
    "    Z = torch.cat((X,Y.unsqueeze(1)), 1).numpy()\n",
    "    df = pd.DataFrame(Z)\n",
    "\n",
    "    df.to_csv(f'{dataset_name}.csv', index=False)"
   ]
  },
  {
   "cell_type": "markdown",
   "id": "d20fe59d",
   "metadata": {},
   "source": [
    "# Generate Ball Dataset\n",
    "Slightly overlapping positive and negative balls"
   ]
  },
  {
   "cell_type": "code",
   "execution_count": null,
   "id": "1cda3a20",
   "metadata": {},
   "outputs": [],
   "source": [
    "import numpy as np \n",
    "\n",
    "def gen_custom_normal_data(N, x_dim, pos_mean, pos_std, neg_mean, neg_std, pos_noise_frac=0.01, neg_noise_frac=0.01):\n",
    "    reset_seed()\n",
    "    pos_samples_num = N//2\n",
    "    neg_samples_num = N - pos_samples_num\n",
    "    posX = torch.randn((pos_samples_num, x_dim))*pos_std + pos_mean\n",
    "    negX = torch.randn((neg_samples_num, x_dim))*neg_std + neg_mean\n",
    "    \n",
    "    X = torch.cat((posX, negX), 0)\n",
    "    Y = torch.unsqueeze(torch.cat((torch.from_numpy(np.random.choice([1, -1], len(posX), p=[1-pos_noise_frac, pos_noise_frac])),\n",
    "                                   torch.from_numpy(np.random.choice([-1, 1], len(posX), p=[1-neg_noise_frac, neg_noise_frac]))),\n",
    "                                  0), 1)\n",
    "    \n",
    "    X, Y = shuffle(X, Y)\n",
    "    return X, Y"
   ]
  },
  {
   "cell_type": "code",
   "execution_count": 46,
   "id": "35dff24a",
   "metadata": {},
   "outputs": [],
   "source": [
    "import numpy as np\n",
    "\n",
    "x_dim = 2\n",
    "N = 5000\n",
    "\n",
    "blobs_dist = 5\n",
    "#blobs_std = 0.25\n",
    "blobs_std = 1.5\n",
    "pos_noise_frac = 0.0\n",
    "neg_noise_frac = 0.0\n",
    "\n",
    "X, Y = gen_custom_normal_data(N, x_dim,\n",
    "                              np.array([blobs_dist/2+10, 0]),\n",
    "                              np.array([blobs_std, 0.2]),\n",
    "                              np.array([-blobs_dist/2+10, 0]),\n",
    "                              np.array([blobs_std, 0.2]),\n",
    "                              pos_noise_frac=pos_noise_frac,\n",
    "                              neg_noise_frac=neg_noise_frac)"
   ]
  },
  {
   "cell_type": "code",
   "execution_count": 47,
   "id": "12e18e7a",
   "metadata": {},
   "outputs": [],
   "source": [
    "dataset_name = f'normal_data_dist_2_std_0_25'.replace('.', '_') \n",
    "save_dataset(X, Y, dataset_name)"
   ]
  },
  {
   "cell_type": "markdown",
   "id": "1c277e10",
   "metadata": {},
   "source": [
    "# Generate Ball Ring Dataset\n",
    "Generate dataset with positive ball surrounded by negative ring"
   ]
  },
  {
   "cell_type": "code",
   "execution_count": 48,
   "id": "3a91485b",
   "metadata": {},
   "outputs": [],
   "source": [
    "N = 5000\n",
    "\n",
    "ball_rad = 2\n",
    "disc_in_rad = 3\n",
    "disc_out_rad = 5\n",
    "half_disc = False\n",
    "\n",
    "X,Y = generate_dataset(N, ball_rad, disc_out_rad, disc_in_rad, half_disc)"
   ]
  },
  {
   "cell_type": "code",
   "execution_count": 49,
   "id": "7472eeb8",
   "metadata": {},
   "outputs": [],
   "source": [
    "\n",
    "dataset_name = f'ball_ring_dataset_ball_rad_{ball_rad}_in_rad_{disc_in_rad}_out_rad_{disc_out_rad}'.replace('.', '_') \n",
    "save_dataset(X, Y, dataset_name)"
   ]
  },
  {
   "cell_type": "markdown",
   "id": "3145d754",
   "metadata": {},
   "source": [
    "# Generate Ball Half-Ring Dataset\n",
    "Generate dataset with positive ball with an adjacent half ring"
   ]
  },
  {
   "cell_type": "code",
   "execution_count": 50,
   "id": "56af3434",
   "metadata": {},
   "outputs": [],
   "source": [
    "N = 5000\n",
    "\n",
    "ball_rad = 2\n",
    "disc_in_rad = 3\n",
    "disc_out_rad = 5\n",
    "half_disc = True\n",
    "\n",
    "X,Y = generate_dataset(N, ball_rad, disc_out_rad, disc_in_rad, half_disc)"
   ]
  },
  {
   "cell_type": "code",
   "execution_count": 51,
   "id": "27ea1bc1",
   "metadata": {},
   "outputs": [],
   "source": [
    "dataset_name = f'ball_half_ring_dataset_ball_rad_{ball_rad}_in_rad_{disc_in_rad}_out_rad_{disc_out_rad}'.replace('.', '_') \n",
    "save_dataset(X, Y, dataset_name)"
   ]
  },
  {
   "cell_type": "markdown",
   "id": "16fa4a6f",
   "metadata": {},
   "source": [
    "# Generate Inverted Half-Ring Dataset"
   ]
  },
  {
   "cell_type": "code",
   "execution_count": 25,
   "id": "afe067d3",
   "metadata": {},
   "outputs": [],
   "source": [
    "def generate_inverted_dataset(N, ball_rad=2, disc_out_rad=5, disc_in_rad=3, half_disc=False):\n",
    "    \"\"\"Same ball and ring dataset, but now it's a positive outer shell and a negative core\"\"\"\n",
    "    n_pos = int(N/2)\n",
    "    n_neg = N-n_pos\n",
    "\n",
    "    neg_data = generate_uniform_point_cloud(n_pos, ball_rad)\n",
    "    pos_data = generate_uniform_point_cloud(n_neg, disc_out_rad, disc_in_rad, half_disc)\n",
    "    X = torch.cat([pos_data, neg_data], dim=0)\n",
    "\n",
    "    y_pos = torch.ones(n_pos).unsqueeze(1)\n",
    "    y_neg = -torch.ones(n_pos).unsqueeze(1)\n",
    "    Y = torch.cat([y_pos, y_neg], dim=0)\n",
    "\n",
    "    X,Y = shuffle(X, Y)\n",
    "    return X, Y"
   ]
  },
  {
   "cell_type": "code",
   "execution_count": 52,
   "id": "484b05fc",
   "metadata": {},
   "outputs": [],
   "source": [
    "N = 5000\n",
    "\n",
    "ball_rad = 2\n",
    "disc_in_rad = 3\n",
    "disc_out_rad = 5\n",
    "half_disc = True\n",
    "\n",
    "X,Y = generate_inverted_dataset(N, ball_rad, disc_out_rad, disc_in_rad, half_disc)"
   ]
  },
  {
   "cell_type": "code",
   "execution_count": 53,
   "id": "8d304126",
   "metadata": {},
   "outputs": [],
   "source": [
    "dataset_name = f'ball_half_ring_inverted_dataset_ball_rad_{ball_rad}_in_rad_{disc_in_rad}_out_rad_{disc_out_rad}'.replace('.', '_') \n",
    "save_dataset(X, Y, dataset_name)"
   ]
  },
  {
   "cell_type": "markdown",
   "id": "be2e3e84",
   "metadata": {},
   "source": [
    "# Twin Moons Dataset"
   ]
  },
  {
   "cell_type": "code",
   "execution_count": 7,
   "id": "221afe80",
   "metadata": {},
   "outputs": [],
   "source": [
    "from sklearn.datasets import make_moons\n",
    "\n",
    "N = 5000\n",
    "\n",
    "#X, Y = make_moons(n_samples=N, noise=0.2, random_state=SEED)\n",
    "X, Y = make_moons(n_samples=N, noise=0.075, random_state=SEED)\n",
    "\n",
    "X = torch.from_numpy(X)\n",
    "Y = torch.where(torch.from_numpy(Y)==0, -1, 1)"
   ]
  },
  {
   "cell_type": "code",
   "execution_count": 55,
   "id": "beb4f279",
   "metadata": {},
   "outputs": [],
   "source": [
    "dataset_name = f'twin_moons'.replace('.', '_') \n",
    "save_dataset(X, Y, dataset_name)"
   ]
  },
  {
   "cell_type": "code",
   "execution_count": 8,
   "id": "0773130f",
   "metadata": {},
   "outputs": [],
   "source": [
    "%matplotlib inline\n",
    "\n",
    "import matplotlib.pyplot as plt\n",
    "def visualize_data2D(X, y):\n",
    "    \"\"\"Visualise 2D Dataset\"\"\"\n",
    "    assert X.size(1) == 2\n",
    "    if not X.size(1) == 2:\n",
    "        return\n",
    "    \n",
    "    Xpos = X[y == 1]\n",
    "    Xneg = X[y == -1]\n",
    "    \n",
    "    fig = plt.figure()\n",
    "    ax = fig.add_subplot(111)\n",
    "    ax.scatter(Xpos[:, 0], Xpos[:, 1], marker='+', color='blue')\n",
    "    ax.scatter(Xneg[:, 0], Xneg[:, 1], marker='_', color='red')\n",
    "    plt.show()"
   ]
  },
  {
   "cell_type": "code",
   "execution_count": 9,
   "id": "84b2ef9a",
   "metadata": {},
   "outputs": [
    {
     "data": {
      "image/png": "[encoded data removed]",
      "text/plain": [
       "<Figure size 640x480 with 1 Axes>"
      ]
     },
     "metadata": {},
     "output_type": "display_data"
    }
   ],
   "source": [
    "visualize_data2D(X, Y)"
   ]
  },
  {
   "cell_type": "code",
   "execution_count": null,
   "id": "081cf06a",
   "metadata": {},
   "outputs": [],
   "source": []
  }
 ],
 "metadata": {
  "kernelspec": {
   "display_name": "venv (3.12.0)",
   "language": "python",
   "name": "python3"
  },
  "language_info": {
   "codemirror_mode": {
    "name": "ipython",
    "version": 3
   },
   "file_extension": ".py",
   "mimetype": "text/x-python",
   "name": "python",
   "nbconvert_exporter": "python",
   "pygments_lexer": "ipython3",
   "version": "3.11.9"
  }
 },
 "nbformat": 4,
 "nbformat_minor": 5
}
